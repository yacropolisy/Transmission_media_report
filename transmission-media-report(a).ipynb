{
 "cells": [
  {
   "cell_type": "code",
   "execution_count": 1,
   "metadata": {
    "collapsed": true
   },
   "outputs": [],
   "source": [
    "%matplotlib inline\n",
    "import random\n",
    "import numpy as np\n",
    "import math"
   ]
  },
  {
   "cell_type": "code",
   "execution_count": 2,
   "metadata": {
    "collapsed": false
   },
   "outputs": [],
   "source": [
    "L = 1000\n",
    "N = 10\n",
    "e = 0.000001"
   ]
  },
  {
   "cell_type": "code",
   "execution_count": 3,
   "metadata": {
    "collapsed": true
   },
   "outputs": [],
   "source": [
    "p = np.ones(N)\n",
    "g = np.empty((N,N))\n",
    "Gamma = np.empty(N)\n",
    "sigma  = np.empty(N)\n",
    "gamma = np.empty(N)\n",
    "p_new = np.empty(N)"
   ]
  },
  {
   "cell_type": "code",
   "execution_count": 4,
   "metadata": {
    "collapsed": true
   },
   "outputs": [],
   "source": [
    "x = np.empty(N) ; y = np.empty(N)"
   ]
  },
  {
   "cell_type": "code",
   "execution_count": 5,
   "metadata": {
    "collapsed": true
   },
   "outputs": [],
   "source": [
    "def cal_gain(x0, x1, y0, y1):\n",
    "    r = math.hypot(x1 - x0, y1 - y0)\n",
    "    return 1.0 / (r * r)"
   ]
  },
  {
   "cell_type": "code",
   "execution_count": 6,
   "metadata": {
    "collapsed": false
   },
   "outputs": [],
   "source": [
    "random.seed(0)\n",
    "for i in range(N):\n",
    "    x[i] = random.uniform(0 , L ) ; y[i] = random.uniform(0 , L )\n",
    "    Gamma[i] = random.uniform(2, 10)\n",
    "    sigma[i] = random.normalvariate(0, 1)\n",
    "for i in range(N):\n",
    "    for j in range(N):\n",
    "        if i == j :\n",
    "            g[i, j] = 1.0\n",
    "        else:\n",
    "            g[i, j] = g[j, i] =  cal_gain(x[i], x[j], y[i], y[j])"
   ]
  },
  {
   "cell_type": "code",
   "execution_count": 7,
   "metadata": {
    "collapsed": true
   },
   "outputs": [],
   "source": [
    "counter = 0"
   ]
  },
  {
   "cell_type": "code",
   "execution_count": 8,
   "metadata": {
    "collapsed": false
   },
   "outputs": [],
   "source": [
    "while not(np.all(abs(Gamma - gamma) < e )):\n",
    "#for k in range(100):\n",
    "    counter += 1\n",
    "    for i in range(N):\n",
    "        s = 0\n",
    "        for j in range(0, i):\n",
    "            s += g[i, j] * p[j]\n",
    "        for j in range(i+1, N):\n",
    "            s += g[i, j] * p[j]\n",
    "        if(p[i] == 0):\n",
    "            p[i] = Gamma[i] *(s + sigma[i] * sigma[i]) / g[i, i]\n",
    "        else:\n",
    "            gamma[i] = g[i, i] * p[i] / (s + sigma[i] * sigma[i])\n",
    "            p[i] = (Gamma[i] / gamma[i] ) * p[i]"
   ]
  },
  {
   "cell_type": "code",
   "execution_count": 9,
   "metadata": {
    "collapsed": false
   },
   "outputs": [
    {
     "name": "stdout",
     "output_type": "stream",
     "text": [
      "5.38395868527\n",
      "24.2005627682\n",
      "7.37320377635\n",
      "2.18650274562\n",
      "4.99406466685\n",
      "3.17248483289\n",
      "0.527913047335\n",
      "0.897913758205\n",
      "10.5431375986\n",
      "29.4438314566\n"
     ]
    }
   ],
   "source": [
    "for i in p:\n",
    "    print(i)"
   ]
  },
  {
   "cell_type": "code",
   "execution_count": 10,
   "metadata": {
    "collapsed": false
   },
   "outputs": [],
   "source": [
    "p_cal = np.empty((N, 1))\n",
    "g_cal = np.empty((N,N))\n",
    "Gamma_cal = np.empty((N, 1))\n",
    "f_cal = np.empty((N,N))\n",
    "n_cal = np.empty((N,1))\n",
    "sigma_cal = np.empty((N,1))\n",
    "i_cal = np.identity(N)"
   ]
  },
  {
   "cell_type": "code",
   "execution_count": 11,
   "metadata": {
    "collapsed": false
   },
   "outputs": [],
   "source": [
    "g_cal = g\n",
    "Gamma_cal = Gamma\n",
    "sigma_cal = sigma\n",
    "for i in range(N):\n",
    "    n_cal[i] = Gamma_cal[i] * sigma_cal[i] * sigma_cal[i] / g_cal[i, i]"
   ]
  },
  {
   "cell_type": "code",
   "execution_count": 12,
   "metadata": {
    "collapsed": false
   },
   "outputs": [],
   "source": [
    "from numpy import linalg as la\n",
    "for i in range(N):\n",
    "    for j in range(N):\n",
    "        if i == j :\n",
    "            f_cal[i, j]=0\n",
    "        else :\n",
    "            f_cal[i, j]  = Gamma_cal[i] * g_cal[i, j] / g_cal[i, i]\n",
    "p_cal = la.inv(i_cal - f_cal ) .dot(n_cal)"
   ]
  },
  {
   "cell_type": "code",
   "execution_count": 13,
   "metadata": {
    "collapsed": false
   },
   "outputs": [
    {
     "name": "stdout",
     "output_type": "stream",
     "text": [
      "[[ -1.59872116e-14   1.88166041e+01   1.98924509e+00  -3.19745594e+00\n",
      "   -3.89894018e-01  -2.21147385e+00  -4.85604564e+00  -4.48604493e+00\n",
      "    5.15917891e+00   2.40598728e+01]\n",
      " [ -1.88166041e+01  -1.24344979e-13  -1.68273590e+01  -2.20140600e+01\n",
      "   -1.92064981e+01  -2.10280779e+01  -2.36726497e+01  -2.33026490e+01\n",
      "   -1.36574252e+01   5.24326869e+00]\n",
      " [ -1.98924509e+00   1.68273590e+01  -2.22044605e-14  -5.18670103e+00\n",
      "   -2.37913911e+00  -4.20071894e+00  -6.84529073e+00  -6.47529002e+00\n",
      "    3.16993382e+00   2.20706277e+01]\n",
      " [  3.19745594e+00   2.20140600e+01   5.18670103e+00  -2.22044605e-15\n",
      "    2.80756192e+00   9.85982087e-01  -1.65858970e+00  -1.28858899e+00\n",
      "    8.35663485e+00   2.72573287e+01]\n",
      " [  3.89894018e-01   1.92064981e+01   2.37913911e+00  -2.80756192e+00\n",
      "   -1.24344979e-14  -1.82157983e+00  -4.46615162e+00  -4.09615091e+00\n",
      "    5.54907293e+00   2.44497668e+01]\n",
      " [  2.21147385e+00   2.10280779e+01   4.20071894e+00  -9.85982087e-01\n",
      "    1.82157983e+00   8.88178420e-16  -2.64457179e+00  -2.27457107e+00\n",
      "    7.37065277e+00   2.62713466e+01]\n",
      " [  4.85604564e+00   2.36726497e+01   6.84529073e+00   1.65858970e+00\n",
      "    4.46615162e+00   2.64457179e+00  -2.22044605e-16   3.70000711e-01\n",
      "    1.00152246e+01   2.89159184e+01]\n",
      " [  4.48604493e+00   2.33026490e+01   6.47529002e+00   1.28858899e+00\n",
      "    4.09615091e+00   2.27457107e+00  -3.70000711e-01   1.11022302e-16\n",
      "    9.64522384e+00   2.85459177e+01]\n",
      " [ -5.15917891e+00   1.36574252e+01  -3.16993382e+00  -8.35663485e+00\n",
      "   -5.54907293e+00  -7.37065277e+00  -1.00152246e+01  -9.64522384e+00\n",
      "   -1.77635684e-15   1.89006939e+01]\n",
      " [ -2.40598728e+01  -5.24326869e+00  -2.20706277e+01  -2.72573287e+01\n",
      "   -2.44497668e+01  -2.62713466e+01  -2.89159184e+01  -2.85459177e+01\n",
      "   -1.89006939e+01   3.55271368e-15]]\n"
     ]
    }
   ],
   "source": [
    "print (p - p_cal)"
   ]
  },
  {
   "cell_type": "code",
   "execution_count": 14,
   "metadata": {
    "collapsed": false
   },
   "outputs": [
    {
     "name": "stdout",
     "output_type": "stream",
     "text": [
      "[ 5.38395869]\n",
      "[ 24.20056277]\n",
      "[ 7.37320378]\n",
      "[ 2.18650275]\n",
      "[ 4.99406467]\n",
      "[ 3.17248483]\n",
      "[ 0.52791305]\n",
      "[ 0.89791376]\n",
      "[ 10.5431376]\n",
      "[ 29.44383146]\n"
     ]
    }
   ],
   "source": [
    "for i in p_cal:\n",
    "    print(i)"
   ]
  },
  {
   "cell_type": "code",
   "execution_count": 15,
   "metadata": {
    "collapsed": false
   },
   "outputs": [
    {
     "name": "stdout",
     "output_type": "stream",
     "text": [
      "6.40051217813\n",
      "9.36297435027\n",
      "8.80958003863\n",
      "6.93846545254\n",
      "6.01489030624\n",
      "2.51567635479\n",
      "2.09480672655\n",
      "3.80323425478\n",
      "7.67089187341\n",
      "7.3598897701\n",
      "\n",
      "-0.917024408902\n",
      "1.60722156567\n",
      "-0.911258836768\n",
      "-0.560937509144\n",
      "-0.910736657053\n",
      "-1.12292678718\n",
      "0.50073590252\n",
      "0.484127100119\n",
      "-1.1721844527\n",
      "1.99966754031\n"
     ]
    }
   ],
   "source": [
    "for i in Gamma:\n",
    "    print(i)\n",
    "print()\n",
    "for i in sigma:\n",
    "    print(i)"
   ]
  },
  {
   "cell_type": "code",
   "execution_count": 23,
   "metadata": {
    "collapsed": false
   },
   "outputs": [
    {
     "name": "stdout",
     "output_type": "stream",
     "text": [
      "1.0,1.31870541747e-06,1.26065483026e-06,6.44764838048e-05,9.74306600676e-07,3.528056239e-06,9.76339185727e-07,7.77467828148e-07,8.64619655896e-07,1.15087854814e-06,\n",
      "1.31870541747e-06,1.0,8.77364715252e-05,1.64170972697e-06,5.14193352789e-06,1.03574182053e-06,3.13383907997e-06,2.1893538606e-06,2.0966639013e-06,2.83733719952e-05,\n",
      "1.26065483026e-06,8.77364715252e-05,1.0,1.60173458711e-06,8.94775455277e-06,1.12759116449e-06,4.72034675862e-06,3.08483993586e-06,2.91032791781e-06,0.000147483746546,\n",
      "6.44764838048e-05,1.64170972697e-06,1.60173458711e-06,1.0,1.25306502229e-06,4.8856352671e-06,1.26678507091e-06,9.80415550981e-07,1.10589586714e-06,1.46645688808e-06,\n",
      "9.74306600676e-07,5.14193352789e-06,8.94775455277e-06,1.25306502229e-06,1.0,1.30886995725e-06,4.77450734175e-05,1.8010271955e-05,1.42398592845e-05,1.52243886274e-05,\n",
      "3.528056239e-06,1.03574182053e-06,1.12759116449e-06,4.8856352671e-06,1.30886995725e-06,1.0,1.57353486993e-06,1.29207444563e-06,1.57130698778e-06,1.13840037498e-06,\n",
      "9.76339185727e-07,3.13383907997e-06,4.72034675862e-06,1.26678507091e-06,4.77450734175e-05,1.57353486993e-06,1.0,5.77514776616e-05,6.30600051803e-05,6.62714410906e-06,\n",
      "7.77467828148e-07,2.1893538606e-06,3.08483993586e-06,9.80415550981e-07,1.8010271955e-05,1.29207444563e-06,5.77514776616e-05,1.0,0.000131349771495,4.13241772818e-06,\n",
      "8.64619655896e-07,2.0966639013e-06,2.91032791781e-06,1.10589586714e-06,1.42398592845e-05,1.57130698778e-06,6.30600051803e-05,0.000131349771495,1.0,3.78336999156e-06,\n",
      "1.15087854814e-06,2.83733719952e-05,0.000147483746546,1.46645688808e-06,1.52243886274e-05,1.13840037498e-06,6.62714410906e-06,4.13241772818e-06,3.78336999156e-06,1.0,\n"
     ]
    }
   ],
   "source": [
    "for i in g:\n",
    "    for j in i:\n",
    "        print (j,end=\"\"), \n",
    "        print(\",\",end=\"\"),\n",
    "    print()"
   ]
  },
  {
   "cell_type": "code",
   "execution_count": 16,
   "metadata": {
    "collapsed": true
   },
   "outputs": [],
   "source": [
    "import matplotlib.pyplot as plt"
   ]
  },
  {
   "cell_type": "code",
   "execution_count": 17,
   "metadata": {
    "collapsed": false
   },
   "outputs": [
    {
     "name": "stderr",
     "output_type": "stream",
     "text": [
      "/Users/admin/anaconda/lib/python3.6/site-packages/matplotlib/figure.py:402: UserWarning: matplotlib is currently using a non-GUI backend, so cannot show the figure\n",
      "  \"matplotlib is currently using a non-GUI backend, \"\n"
     ]
    },
    {
     "data": {
      "image/png": "[encoded data removed]",
      "text/plain": [
       "<matplotlib.figure.Figure at 0x11502bef0>"
      ]
     },
     "metadata": {},
     "output_type": "display_data"
    }
   ],
   "source": [
    "fig = plt.figure()\n",
    "\n",
    "ax = fig.add_subplot(1,1,1)\n",
    "\n",
    "ax.scatter(x,y)\n",
    "\n",
    "ax.set_title('first scatter plot')\n",
    "ax.set_xlabel('x')\n",
    "ax.set_ylabel('y')\n",
    "\n",
    "fig.show()"
   ]
  },
  {
   "cell_type": "code",
   "execution_count": null,
   "metadata": {
    "collapsed": true
   },
   "outputs": [],
   "source": []
  }
 ],
 "metadata": {
  "kernelspec": {
   "display_name": "Python 3",
   "language": "python",
   "name": "python3"
  },
  "language_info": {
   "codemirror_mode": {
    "name": "ipython",
    "version": 3
   },
   "file_extension": ".py",
   "mimetype": "text/x-python",
   "name": "python",
   "nbconvert_exporter": "python",
   "pygments_lexer": "ipython3",
   "version": "3.6.0"
  }
 },
 "nbformat": 4,
 "nbformat_minor": 2
}
